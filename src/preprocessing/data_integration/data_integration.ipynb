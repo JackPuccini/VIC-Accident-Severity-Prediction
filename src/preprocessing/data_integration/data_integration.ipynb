{
 "cells": [
  {
   "cell_type": "code",
   "execution_count": null,
   "id": "3562424c",
   "metadata": {},
   "outputs": [
    {
     "name": "stdout",
     "output_type": "stream",
     "text": [
      "→ integrated_model_ready.csv ✓ (182020, 64)\n"
     ]
    }
   ],
   "source": [
    "import pandas as pd\n",
    "\n",
    "# 1) Load each csv file\n",
    "veh = pd.read_csv(\"../../modified_datasets/preprocessed_vehicle_core.csv\")\n",
    "acc = pd.read_csv(\"../../modified_datasets/preprocessed_accident_core.csv\")\n",
    "prs = pd.read_csv(\"../../modified_datasets/preprocessed_person_core.csv\")\n",
    "rnd = pd.read_csv(\"../../modified_datasets/road_surface_core.csv\")\n",
    "atm = pd.read_csv(\"../../modified_datasets/atmospheric_core.csv\")\n",
    "\n",
    "# 2) Merge them all on ACCIDENT_NO\n",
    "df = (\n",
    "    acc.merge(veh, on=\"ACCIDENT_NO\", how=\"inner\")\n",
    "    .merge(prs, on=\"ACCIDENT_NO\", how=\"inner\")\n",
    "    .merge(rnd, on=\"ACCIDENT_NO\", how=\"left\")\n",
    "    .merge(atm, on=\"ACCIDENT_NO\", how=\"left\")\n",
    ")\n",
    "\n",
    "# 3) Fill any remaining holes with zero\n",
    "df = df.fillna(0)\n",
    "\n",
    "# 4) Save\n",
    "df.to_csv(\"integrated_model_ready.csv\", index=False)"
   ]
  },
  {
   "cell_type": "code",
   "execution_count": null,
   "id": "c04b20f2",
   "metadata": {},
   "outputs": [
    {
     "name": "stdout",
     "output_type": "stream",
     "text": [
      "Train HIGH_SEV ratio: 0.37719756070761457\n",
      "Test  HIGH_SEV ratio: 0.37721129546203713\n"
     ]
    }
   ],
   "source": [
    "from sklearn.model_selection import train_test_split\n",
    "\n",
    "# 1) Load the integrated dataset\n",
    "df = pd.read_csv(\"integrated_model_ready.csv\")\n",
    "\n",
    "# 3) Split into train / test on the new target\n",
    "train_df, test_df = train_test_split(\n",
    "    df, test_size=0.2, stratify=df[\"HIGH_SEVERITY\"], random_state=42\n",
    ")\n",
    "\n",
    "# 4) Save\n",
    "train_df.to_csv(\"train_accident_features.csv\", index=False)\n",
    "test_df.to_csv(\"test_accident_features.csv\", index=False)"
   ]
  }
 ],
 "metadata": {
  "kernelspec": {
   "display_name": "venv",
   "language": "python",
   "name": "python3"
  },
  "language_info": {
   "codemirror_mode": {
    "name": "ipython",
    "version": 3
   },
   "file_extension": ".py",
   "mimetype": "text/x-python",
   "name": "python",
   "nbconvert_exporter": "python",
   "pygments_lexer": "ipython3",
   "version": "3.11.4"
  }
 },
 "nbformat": 4,
 "nbformat_minor": 5
}
